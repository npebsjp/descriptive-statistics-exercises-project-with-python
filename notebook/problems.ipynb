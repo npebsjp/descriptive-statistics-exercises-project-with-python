{
 "cells": [
  {
   "cell_type": "markdown",
   "id": "ac622319",
   "metadata": {},
   "source": [
    "# Descriptive statistics problems"
   ]
  },
  {
   "cell_type": "markdown",
   "id": "5e0ab0d5",
   "metadata": {},
   "source": [
    "### Exercise 1\n",
    "\n",
    "We will use NumPy to obtain information to describe statistically.\n",
    "\n",
    "- Generate an array of 100 elements following a normal distribution.\n",
    "- Generate an array of 100 elements following a chi-square distribution with 3 degrees of freedom.\n",
    "- Calculate the main metrics and statistical measures that best describe the two vectors."
   ]
  },
  {
   "cell_type": "code",
   "execution_count": 5,
   "id": "34720ab6",
   "metadata": {},
   "outputs": [
    {
     "name": "stdout",
     "output_type": "stream",
     "text": [
      "[ 0.02092003 -0.08045149  0.00644115 -0.00384813  0.05210866 -0.06539805\n",
      "  0.08485375  0.02123464 -0.01097935  0.12399089 -0.11717264 -0.05016279\n",
      "  0.14799092  0.15704104  0.04323653 -0.15920702 -0.03359715 -0.13330625\n",
      "  0.19297179 -0.10259406  0.13974104  0.01133114  0.16087162 -0.07728867\n",
      " -0.07317827 -0.06973248 -0.08809778 -0.01237542  0.05330268  0.08512698\n",
      " -0.06132797 -0.08852052  0.05382305 -0.02370594  0.00419569  0.09999267\n",
      "  0.08878615  0.0315707  -0.04017742  0.06059442 -0.18160971 -0.04702257\n",
      "  0.10861715  0.15943041 -0.07510977 -0.05389405 -0.09442553  0.07877\n",
      "  0.11482182  0.10081053  0.08365327  0.02989872  0.19334667 -0.04855224\n",
      "  0.10773265 -0.03694923 -0.06492679  0.03276411  0.01560196  0.0952571\n",
      " -0.16160831  0.1323241  -0.06135087 -0.06348213  0.0930335  -0.007272\n",
      " -0.1842876  -0.13080231 -0.06417966  0.0912853   0.1942593  -0.07693167\n",
      " -0.02403114  0.02128859  0.08060969  0.19147248 -0.00763151  0.10061705\n",
      " -0.16975915  0.07235122  0.01468328  0.01678165  0.09548474 -0.01833794\n",
      "  0.08271541 -0.12572667  0.17084157  0.03545159  0.14368241  0.05060025\n",
      " -0.0145729   0.06960921  0.08593317  0.03304652 -0.0164665  -0.01789984\n",
      "  0.07980267  0.21519789  0.00146792 -0.06344175]\n",
      "[0.23377247 0.52498075 2.30610821 1.57723929 5.89520334 1.50526822\n",
      " 7.10806076 2.06540932 1.21551896 7.46402978 2.89053706 0.93722653\n",
      " 4.10313759 0.11477034 1.05000133 1.71326492 1.64303788 0.90982792\n",
      " 2.23143024 5.33290847 3.03042575 0.17912505 3.05441242 2.12697736\n",
      " 1.93349701 4.59900073 3.09330647 1.05171413 0.9465325  1.53970599\n",
      " 2.39369355 4.33914337 1.87579477 1.57977493 3.30673602 0.64711646\n",
      " 1.05837642 8.53036578 3.24458946 5.94806196 7.90211976 2.87176804\n",
      " 2.27502677 7.26244022 5.41137517 0.63660835 0.43081149 3.42936212\n",
      " 3.0216999  8.61126549 6.69281695 1.90158412 0.87307745 2.32934241\n",
      " 2.31530218 0.24305067 6.42897081 2.53998094 2.57863025 1.7138981\n",
      " 1.77221283 5.57274201 0.71310559 0.99578661 0.50888793 6.8803184\n",
      " 7.90716184 0.41047409 1.5734628  3.75470077 1.15280996 0.94869236\n",
      " 2.77817385 0.85085691 1.07497843 5.18586855 6.55857536 0.74857707\n",
      " 0.11087759 2.2401457  0.54260648 5.50850113 0.09835077 3.13674096\n",
      " 0.66432433 0.88820445 1.09733519 1.74459774 1.30038419 3.13343641\n",
      " 2.44175026 0.8609611  5.31488011 4.34493724 3.38645002 0.91902225\n",
      " 2.7544829  4.07647296 1.21564676 4.86314758]\n",
      "Normal  0.017319762111081473 ,0.09435076166736947\n"
     ]
    }
   ],
   "source": [
    "import numpy as np\n",
    "import statistics as stats\n",
    "\n",
    "\n",
    "#normal = np.random.normal(mean, sdt_dev, size)\n",
    "normal = np.random.normal(0,0.1, size = (100))\n",
    "print(normal)\n",
    "chi = np.random.chisquare(3,100)\n",
    "print(chi)\n",
    "\n",
    "print(f'Normal  {np.mean(normal)} ,{np.std(normal)}') \n"
   ]
  },
  {
   "cell_type": "markdown",
   "id": "46c70c3d",
   "metadata": {},
   "source": [
    "### Exercise 2\n",
    "\n",
    "Write a Python program to calculate the standard deviation of the following data:\n",
    "\n",
    "```py\n",
    "data = [4, 2, 5, 8, 6]\n",
    "```"
   ]
  },
  {
   "cell_type": "code",
   "execution_count": 15,
   "id": "d590308e",
   "metadata": {},
   "outputs": [
    {
     "name": "stdout",
     "output_type": "stream",
     "text": [
      "[4 2 5 8 6]\n",
      "5.0\n",
      "2.0\n"
     ]
    }
   ],
   "source": [
    "data = [4,2,5,8,6]\n",
    "sd = np.array(data)\n",
    "print(sd)\n",
    "mean_data = np.sum(sd)/len(sd)\n",
    "print(mean_data)\n",
    "differ_std = (sd - mean_data)**2\n",
    "std_data = np.sum(differ_std)/len(sd)\n",
    "std_final = np.sqrt(std_data)\n",
    "print(std_final) "
   ]
  },
  {
   "cell_type": "code",
   "execution_count": null,
   "id": "8f235aac",
   "metadata": {},
   "outputs": [],
   "source": []
  }
 ],
 "metadata": {
  "kernelspec": {
   "display_name": "Python 3",
   "language": "python",
   "name": "python3"
  },
  "language_info": {
   "codemirror_mode": {
    "name": "ipython",
    "version": 3
   },
   "file_extension": ".py",
   "mimetype": "text/x-python",
   "name": "python",
   "nbconvert_exporter": "python",
   "pygments_lexer": "ipython3",
   "version": "3.11.4"
  }
 },
 "nbformat": 4,
 "nbformat_minor": 5
}
